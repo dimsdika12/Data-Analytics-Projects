{
  "nbformat": 4,
  "nbformat_minor": 0,
  "metadata": {
    "colab": {
      "provenance": []
    },
    "kernelspec": {
      "name": "python3",
      "display_name": "Python 3"
    },
    "language_info": {
      "name": "python"
    }
  },
  "cells": [
    {
      "cell_type": "markdown",
      "source": [
        " **Prepare all required libraries**"
      ],
      "metadata": {
        "id": "tmyTgprXTF8e"
      }
    },
    {
      "cell_type": "code",
      "source": [
        "import pandas as pd\n",
        "import matplotlib.pyplot as plt\n",
        "import seaborn as sns"
      ],
      "metadata": {
        "id": "_qViXjQ0S41d"
      },
      "execution_count": 1,
      "outputs": []
    },
    {
      "cell_type": "markdown",
      "source": [
        " **Import Dataset**"
      ],
      "metadata": {
        "id": "iyfAojNTV2ZK"
      }
    },
    {
      "cell_type": "code",
      "source": [
        "#import dataset\n",
        "df_load = pd.read_csv('https://raw.githubusercontent.com/dimsdika12/data-analytics-projects/main/Telco_Data%20Preprocessing/dataset/telco.csv')\n",
        "\n",
        "#Tampilkan jumlah baris dan kolom\n",
        "print(df_load.shape)\n",
        "\n",
        "#Tampilkan 5 data teratas\n",
        "print(df_load.head())\n",
        "\n",
        "#Jumlah ID yang unik\n",
        "print(df_load[\"customerID\"].nunique())"
      ],
      "metadata": {
        "colab": {
          "base_uri": "https://localhost:8080/"
        },
        "id": "3Bvl-cA8V9KW",
        "outputId": "0b2baa70-e64b-4153-d2bc-44e9115df7fd"
      },
      "execution_count": 2,
      "outputs": [
        {
          "output_type": "stream",
          "name": "stdout",
          "text": [
            "(7113, 22)\n",
            "   UpdatedAt   customerID  gender  SeniorCitizen Partner Dependents  tenure  \\\n",
            "0     202006  45759018157  Female              0     Yes         No     1.0   \n",
            "1     202006  45557574145    Male              0      No         No    34.0   \n",
            "2     202006  45366876421    Male              0      No         No     2.0   \n",
            "3     202006  45779536532    Male              0      No         No    45.0   \n",
            "4     202006  45923787906  Female              0      No         No     2.0   \n",
            "\n",
            "  PhoneService     MultipleLines InternetService  ... DeviceProtection  \\\n",
            "0           No  No phone service             DSL  ...               No   \n",
            "1          Yes                No             DSL  ...              Yes   \n",
            "2          Yes                No             DSL  ...               No   \n",
            "3           No  No phone service             DSL  ...              Yes   \n",
            "4          Yes                No     Fiber optic  ...               No   \n",
            "\n",
            "  TechSupport StreamingTV StreamingMovies        Contract PaperlessBilling  \\\n",
            "0          No          No              No  Month-to-month              Yes   \n",
            "1          No          No              No        One year               No   \n",
            "2          No          No              No  Month-to-month              Yes   \n",
            "3         Yes          No              No        One year               No   \n",
            "4          No          No              No  Month-to-month              Yes   \n",
            "\n",
            "               PaymentMethod MonthlyCharges TotalCharges  Churn  \n",
            "0           Electronic check          29.85        29.85     No  \n",
            "1               Mailed check          56.95      1889.50     No  \n",
            "2               Mailed check          53.85       108.15    Yes  \n",
            "3  Bank transfer (automatic)          42.30      1840.75     No  \n",
            "4           Electronic check          70.70       151.65    Yes  \n",
            "\n",
            "[5 rows x 22 columns]\n",
            "7017\n"
          ]
        }
      ]
    },
    {
      "cell_type": "markdown",
      "source": [
        "# **Look for a valid customer ID (Phone number)**"
      ],
      "metadata": {
        "id": "yOWGPWzBHCk3"
      }
    },
    {
      "cell_type": "markdown",
      "source": [],
      "metadata": {
        "id": "nL__5SRQ7j7X"
      }
    },
    {
      "cell_type": "markdown",
      "source": [
        "**Filtering Customer ID Numbers in Certain Formats**\n",
        "- Character length is 11-12.\n",
        "- Consists of numbers only, no characters other than numbers are allowed\n",
        "- Starting with the number 45, the first 2 digits."
      ],
      "metadata": {
        "id": "MR2bby7hYT9c"
      }
    },
    {
      "cell_type": "code",
      "source": [
        "df_load['valid_id'] = df_load['customerID'].astype(str).str.match(r'(45\\d{9,10})')\n",
        "df_load = (df_load[df_load['valid_id'] == True]).drop('valid_id', axis=1)\n",
        "print('Hasil jumlah ID Customer yang terfilter adalah',df_load['customerID'].count())"
      ],
      "metadata": {
        "colab": {
          "base_uri": "https://localhost:8080/"
        },
        "id": "ym3SpJBdYTnj",
        "outputId": "69f90008-acb2-42a8-d76b-27ecb1d29b91"
      },
      "execution_count": 3,
      "outputs": [
        {
          "output_type": "stream",
          "name": "stdout",
          "text": [
            "Hasil jumlah ID Customer yang terfilter adalah 7006\n"
          ]
        }
      ]
    },
    {
      "cell_type": "markdown",
      "source": [
        "**Filtering Duplicate Customer ID Numbers**\n",
        "\n",
        "Make sure there are no duplicate customer IDs. ID duplication often occurs for two main reasons:\n",
        "\n",
        "- Duplication is caused by filling in data more than once with the same values for each column.\n",
        "- Duplication is caused by data filling in at different data collection periods."
      ],
      "metadata": {
        "id": "IY4sThC30UAr"
      }
    },
    {
      "cell_type": "code",
      "source": [
        "df_load.duplicated('customerID').sum()"
      ],
      "metadata": {
        "colab": {
          "base_uri": "https://localhost:8080/"
        },
        "id": "5FYnzQSWKTNZ",
        "outputId": "e6881bb1-250a-420c-d5ef-af0593eb2612"
      },
      "execution_count": 4,
      "outputs": [
        {
          "output_type": "execute_result",
          "data": {
            "text/plain": [
              "13"
            ]
          },
          "metadata": {},
          "execution_count": 4
        }
      ]
    },
    {
      "cell_type": "code",
      "source": [
        "# Drop Duplicate Rows\n",
        "df_load.drop_duplicates()\n",
        "# Drop duplicate ID sorted by Periode\n",
        "df_load = df_load.sort_values('UpdatedAt', ascending=False).drop_duplicates('customerID')\n",
        "print('Hasil jumlah ID Customer yang sudah dihilangkan duplikasinya (distinct) adalah',df_load['customerID'].count())"
      ],
      "metadata": {
        "colab": {
          "base_uri": "https://localhost:8080/"
        },
        "id": "I9YQ_dMhyV7v",
        "outputId": "77fb59bc-1cf7-4de8-966b-88963c1a419e"
      },
      "execution_count": 5,
      "outputs": [
        {
          "output_type": "stream",
          "name": "stdout",
          "text": [
            "Hasil jumlah ID Customer yang sudah dihilangkan duplikasinya (distinct) adalah 6993\n"
          ]
        }
      ]
    },
    {
      "cell_type": "code",
      "source": [
        "df_load.duplicated().sum()"
      ],
      "metadata": {
        "colab": {
          "base_uri": "https://localhost:8080/"
        },
        "id": "EIQQ7uMrIQWf",
        "outputId": "80ea3462-3596-4c7c-f2a8-5f0c24217098"
      },
      "execution_count": 6,
      "outputs": [
        {
          "output_type": "execute_result",
          "data": {
            "text/plain": [
              "0"
            ]
          },
          "metadata": {},
          "execution_count": 6
        }
      ]
    },
    {
      "cell_type": "markdown",
      "source": [
        "# **Handling Missing Values**"
      ],
      "metadata": {
        "id": "MXNCp5Qu2kFt"
      }
    },
    {
      "cell_type": "code",
      "source": [
        "df_load.isnull().sum()"
      ],
      "metadata": {
        "colab": {
          "base_uri": "https://localhost:8080/"
        },
        "id": "LuhJrBdAayKc",
        "outputId": "3b1023b6-39c4-4b53-ebf3-984c35824a0d"
      },
      "execution_count": 7,
      "outputs": [
        {
          "output_type": "execute_result",
          "data": {
            "text/plain": [
              "UpdatedAt            0\n",
              "customerID           0\n",
              "gender               0\n",
              "SeniorCitizen        0\n",
              "Partner              0\n",
              "Dependents           0\n",
              "tenure              99\n",
              "PhoneService         0\n",
              "MultipleLines        0\n",
              "InternetService      0\n",
              "OnlineSecurity       0\n",
              "OnlineBackup         0\n",
              "DeviceProtection     0\n",
              "TechSupport          0\n",
              "StreamingTV          0\n",
              "StreamingMovies      0\n",
              "Contract             0\n",
              "PaperlessBilling     0\n",
              "PaymentMethod        0\n",
              "MonthlyCharges      26\n",
              "TotalCharges        15\n",
              "Churn               43\n",
              "dtype: int64"
            ]
          },
          "metadata": {},
          "execution_count": 7
        }
      ]
    },
    {
      "cell_type": "markdown",
      "source": [
        "Missing values are found in the column `Churn`, `tenure`, `MonthlyCharges` & `TotalCharges`."
      ],
      "metadata": {
        "id": "O2Ef-11GO16h"
      }
    },
    {
      "cell_type": "markdown",
      "source": [
        "Handling Missing Values by Removing Rows\n",
        "- remove missing value rows in column `churn`"
      ],
      "metadata": {
        "id": "pQPYWsEfbrx4"
      }
    },
    {
      "cell_type": "code",
      "source": [
        "print(\"Total missing values data dari kolom Churn\",df_load['Churn'].isnull().sum())\n",
        "# Dropping all Rows with spesific column (churn)\n",
        "df_load.dropna(subset=['Churn'], inplace=True)\n",
        "print(\"Total Rows dan kolom Data setelah dihapus data Missing Values adalah\",df_load.shape)"
      ],
      "metadata": {
        "colab": {
          "base_uri": "https://localhost:8080/"
        },
        "id": "URZlXI_iOxR1",
        "outputId": "9e298c00-6446-49bc-fdd2-487d350f6e72"
      },
      "execution_count": 8,
      "outputs": [
        {
          "output_type": "stream",
          "name": "stdout",
          "text": [
            "Total missing values data dari kolom Churn 43\n",
            "Total Rows dan kolom Data setelah dihapus data Missing Values adalah (6950, 22)\n"
          ]
        }
      ]
    },
    {
      "cell_type": "markdown",
      "source": [
        "Handling Missing Values by Filling in Certain Values\n",
        "- fill missing value column `tenure` with 11\n",
        "- fill others column missing `value `with median"
      ],
      "metadata": {
        "id": "Pu4bUuP2RM75"
      }
    },
    {
      "cell_type": "code",
      "source": [
        "print('Status Missing Values :',df_load.isnull().values.any())\n",
        "print('\\nJumlah Missing Values masing-masing kolom, adalah:')\n",
        "print(df_load.isnull().sum().sort_values(ascending=False))"
      ],
      "metadata": {
        "colab": {
          "base_uri": "https://localhost:8080/"
        },
        "id": "LIDk1Lf6af4Q",
        "outputId": "6d611830-e282-472b-f40b-c2e9f5ed1713"
      },
      "execution_count": 9,
      "outputs": [
        {
          "output_type": "stream",
          "name": "stdout",
          "text": [
            "Status Missing Values : True\n",
            "\n",
            "Jumlah Missing Values masing-masing kolom, adalah:\n",
            "tenure              99\n",
            "MonthlyCharges      26\n",
            "TotalCharges        15\n",
            "UpdatedAt            0\n",
            "DeviceProtection     0\n",
            "PaymentMethod        0\n",
            "PaperlessBilling     0\n",
            "Contract             0\n",
            "StreamingMovies      0\n",
            "StreamingTV          0\n",
            "TechSupport          0\n",
            "OnlineBackup         0\n",
            "customerID           0\n",
            "OnlineSecurity       0\n",
            "InternetService      0\n",
            "MultipleLines        0\n",
            "PhoneService         0\n",
            "Dependents           0\n",
            "Partner              0\n",
            "SeniorCitizen        0\n",
            "gender               0\n",
            "Churn                0\n",
            "dtype: int64\n"
          ]
        }
      ]
    },
    {
      "cell_type": "code",
      "source": [
        "#handling missing values Tenure fill with 11\n",
        "df_load['tenure'].fillna(11,inplace=True)\n",
        "\n",
        "#Loop\n",
        "#Handling missing values num vars (except Tenure)\n",
        "for col_name in  list(['MonthlyCharges','TotalCharges']):\n",
        "    #write your command here\n",
        "\tmedian = df_load[col_name].median()\n",
        "\tdf_load[col_name].fillna(median, inplace=True)\n",
        "\n",
        "print('\\nJumlah Missing Values setelah di imputer datanya, adalah:')\n",
        "print(df_load.isnull().sum().sort_values(ascending=False))"
      ],
      "metadata": {
        "colab": {
          "base_uri": "https://localhost:8080/"
        },
        "id": "JPU8TXXBRdoi",
        "outputId": "9cb9ba77-ab0e-4057-80ef-fdfce224e0e7"
      },
      "execution_count": 10,
      "outputs": [
        {
          "output_type": "stream",
          "name": "stdout",
          "text": [
            "\n",
            "Jumlah Missing Values setelah di imputer datanya, adalah:\n",
            "UpdatedAt           0\n",
            "customerID          0\n",
            "TotalCharges        0\n",
            "MonthlyCharges      0\n",
            "PaymentMethod       0\n",
            "PaperlessBilling    0\n",
            "Contract            0\n",
            "StreamingMovies     0\n",
            "StreamingTV         0\n",
            "TechSupport         0\n",
            "DeviceProtection    0\n",
            "OnlineBackup        0\n",
            "OnlineSecurity      0\n",
            "InternetService     0\n",
            "MultipleLines       0\n",
            "PhoneService        0\n",
            "tenure              0\n",
            "Dependents          0\n",
            "Partner             0\n",
            "SeniorCitizen       0\n",
            "gender              0\n",
            "Churn               0\n",
            "dtype: int64\n"
          ]
        }
      ]
    },
    {
      "cell_type": "markdown",
      "source": [
        "# **Detecting outliers**"
      ],
      "metadata": {
        "id": "lpvBX-E0aOOs"
      }
    },
    {
      "cell_type": "code",
      "source": [
        "# Misal untuk kolom tenure\n",
        "plt.figure()\n",
        "sns.boxplot(x=df_load['tenure'])\n",
        "plt.show()\n",
        "# dan seterusnya untuk kedua kolom yang tersisa secara berurut\n",
        "plt.figure()\n",
        "sns.boxplot(x=df_load['MonthlyCharges'])\n",
        "plt.show()\n",
        "\n",
        "plt.figure()\n",
        "sns.boxplot(x=df_load['TotalCharges'])\n",
        "plt.show()"
      ],
      "metadata": {
        "colab": {
          "base_uri": "https://localhost:8080/",
          "height": 1000
        },
        "id": "GQ7G8V-FcrR_",
        "outputId": "bf12ea77-7d87-48f9-8d0c-cebbeed36439"
      },
      "execution_count": 11,
      "outputs": [
        {
          "output_type": "display_data",
          "data": {
            "text/plain": [
              "<Figure size 640x480 with 1 Axes>"
            ],
            "image/png": "[encoded data removed]"
          },
          "metadata": {}
        },
        {
          "output_type": "display_data",
          "data": {
            "text/plain": [
              "<Figure size 640x480 with 1 Axes>"
            ],
            "image/png": "[encoded data removed]"
          },
          "metadata": {}
        },
        {
          "output_type": "display_data",
          "data": {
            "text/plain": [
              "<Figure size 640x480 with 1 Axes>"
            ],
            "image/png": "[encoded data removed]"
          },
          "metadata": {}
        }
      ]
    },
    {
      "cell_type": "code",
      "source": [
        "# Handling with IQR\n",
        "Q1 = (df_load[['tenure','MonthlyCharges','TotalCharges']]).quantile(0.25)\n",
        "Q3 = (df_load[['tenure','MonthlyCharges','TotalCharges']]).quantile(0.75)\n",
        "\n",
        "IQR = Q3 - Q1\n",
        "maximum  = Q3 + (1.5*IQR)\n",
        "print('Nilai Maximum dari masing-masing Variable adalah: ')\n",
        "print(maximum)\n",
        "minimum = Q1 - (1.5*IQR)\n",
        "print('\\nNilai Minimum dari masing-masing Variable adalah: ')\n",
        "print(minimum)\n",
        "\n",
        "more_than     = (df_load > maximum)\n",
        "lower_than    = (df_load < minimum)\n",
        "df_load       = df_load.mask(more_than, maximum, axis=1)\n",
        "df_load       = df_load.mask(lower_than, minimum, axis=1)\n",
        "\n",
        "print('\\nPersebaran data setelah ditangani Outlier: ')\n",
        "print(df_load[['tenure','MonthlyCharges','TotalCharges']].describe())"
      ],
      "metadata": {
        "colab": {
          "base_uri": "https://localhost:8080/"
        },
        "id": "_JKdIJveo6WK",
        "outputId": "fa6c141d-6fb5-4f76-bd2d-cea2ffcef249"
      },
      "execution_count": 12,
      "outputs": [
        {
          "output_type": "stream",
          "name": "stdout",
          "text": [
            "Nilai Maximum dari masing-masing Variable adalah: \n",
            "tenure             124.00000\n",
            "MonthlyCharges     169.93125\n",
            "TotalCharges      8889.13125\n",
            "dtype: float64\n",
            "\n",
            "Nilai Minimum dari masing-masing Variable adalah: \n",
            "tenure             -60.00000\n",
            "MonthlyCharges     -43.61875\n",
            "TotalCharges     -4682.31875\n",
            "dtype: float64\n",
            "\n",
            "Persebaran data setelah ditangani Outlier: \n",
            "            tenure  MonthlyCharges  TotalCharges\n",
            "count  6950.000000     6950.000000   6950.000000\n",
            "mean     32.423165       64.992201   2286.058750\n",
            "std      24.581073       30.032040   2265.702553\n",
            "min       0.000000        0.000000     19.000000\n",
            "25%       9.000000       36.462500    406.975000\n",
            "50%      29.000000       70.450000   1400.850000\n",
            "75%      55.000000       89.850000   3799.837500\n",
            "max     124.000000      169.931250   8889.131250\n"
          ]
        },
        {
          "output_type": "stream",
          "name": "stderr",
          "text": [
            "<ipython-input-12-1fac22a4fc00>:13: FutureWarning: Automatic reindexing on DataFrame vs Series comparisons is deprecated and will raise ValueError in a future version. Do `left, right = left.align(right, axis=1, copy=False)` before e.g. `left == right`\n",
            "  more_than     = (df_load > maximum)\n",
            "<ipython-input-12-1fac22a4fc00>:14: FutureWarning: Automatic reindexing on DataFrame vs Series comparisons is deprecated and will raise ValueError in a future version. Do `left, right = left.align(right, axis=1, copy=False)` before e.g. `left == right`\n",
            "  lower_than    = (df_load < minimum)\n"
          ]
        }
      ]
    },
    {
      "cell_type": "markdown",
      "source": [
        "plot boxplot to cek again outlier"
      ],
      "metadata": {
        "id": "3oNoGGWZpnkO"
      }
    },
    {
      "cell_type": "code",
      "source": [
        "# Misal untuk kolom tenure\n",
        "plt.figure()\n",
        "sns.boxplot(x=df_load['tenure'])\n",
        "plt.show()\n",
        "# dan seterusnya untuk kedua kolom yang tersisa secara berurut\n",
        "plt.figure()\n",
        "sns.boxplot(x=df_load['MonthlyCharges'])\n",
        "plt.show()\n",
        "\n",
        "plt.figure()\n",
        "sns.boxplot(x=df_load['TotalCharges'])\n",
        "plt.show()"
      ],
      "metadata": {
        "colab": {
          "base_uri": "https://localhost:8080/",
          "height": 1000
        },
        "id": "ele0KMTSpnHq",
        "outputId": "1023f0b3-4018-4567-d3e4-085a8f0890ca"
      },
      "execution_count": 14,
      "outputs": [
        {
          "output_type": "display_data",
          "data": {
            "text/plain": [
              "<Figure size 640x480 with 1 Axes>"
            ],
            "image/png": "[encoded data removed]"
          },
          "metadata": {}
        },
        {
          "output_type": "display_data",
          "data": {
            "text/plain": [
              "<Figure size 640x480 with 1 Axes>"
            ],
            "image/png": "[encoded data removed]"
          },
          "metadata": {}
        },
        {
          "output_type": "display_data",
          "data": {
            "text/plain": [
              "<Figure size 640x480 with 1 Axes>"
            ],
            "image/png": "[encoded data removed]"
          },
          "metadata": {}
        }
      ]
    },
    {
      "cell_type": "markdown",
      "source": [
        "# **Standardizing the Values of Variables**"
      ],
      "metadata": {
        "id": "qlclB0ADqAQh"
      }
    },
    {
      "cell_type": "markdown",
      "source": [
        "cek value_counts each columns to counts the number of occurrences of each unique value in a column"
      ],
      "metadata": {
        "id": "vFYqmcjDrRvU"
      }
    },
    {
      "cell_type": "code",
      "source": [
        "for col_name in list(['gender','SeniorCitizen','Partner','Dependents','PhoneService','MultipleLines','InternetService',\n",
        "                      'OnlineSecurity','OnlineBackup','DeviceProtection','TechSupport','StreamingTV','StreamingMovies',\n",
        "                      'Contract','PaperlessBilling','PaymentMethod','Churn']):\n",
        "\t#write your command here\n",
        "\tprint('\\nUnique Values Count Before Standardized Variable',col_name)\n",
        "\tprint(df_load[col_name].value_counts())"
      ],
      "metadata": {
        "colab": {
          "base_uri": "https://localhost:8080/"
        },
        "id": "4norYB9aqjO1",
        "outputId": "ad7a6c95-5b62-4ac5-da45-f12115c83a68"
      },
      "execution_count": 17,
      "outputs": [
        {
          "output_type": "stream",
          "name": "stdout",
          "text": [
            "\n",
            "Unique Values Count Before Standardized Variable gender\n",
            "Male         3499\n",
            "Female       3431\n",
            "Wanita         14\n",
            "Laki-Laki       6\n",
            "Name: gender, dtype: int64\n",
            "\n",
            "Unique Values Count Before Standardized Variable SeniorCitizen\n",
            "0    5822\n",
            "1    1128\n",
            "Name: SeniorCitizen, dtype: int64\n",
            "\n",
            "Unique Values Count Before Standardized Variable Partner\n",
            "No     3591\n",
            "Yes    3359\n",
            "Name: Partner, dtype: int64\n",
            "\n",
            "Unique Values Count Before Standardized Variable Dependents\n",
            "No     4870\n",
            "Yes    2060\n",
            "Iya      20\n",
            "Name: Dependents, dtype: int64\n",
            "\n",
            "Unique Values Count Before Standardized Variable PhoneService\n",
            "Yes    6281\n",
            "No      669\n",
            "Name: PhoneService, dtype: int64\n",
            "\n",
            "Unique Values Count Before Standardized Variable MultipleLines\n",
            "No                  3346\n",
            "Yes                 2935\n",
            "No phone service     669\n",
            "Name: MultipleLines, dtype: int64\n",
            "\n",
            "Unique Values Count Before Standardized Variable InternetService\n",
            "Fiber optic    3057\n",
            "DSL            2388\n",
            "No             1505\n",
            "Name: InternetService, dtype: int64\n",
            "\n",
            "Unique Values Count Before Standardized Variable OnlineSecurity\n",
            "No                     3454\n",
            "Yes                    1991\n",
            "No internet service    1505\n",
            "Name: OnlineSecurity, dtype: int64\n",
            "\n",
            "Unique Values Count Before Standardized Variable OnlineBackup\n",
            "No                     3045\n",
            "Yes                    2400\n",
            "No internet service    1505\n",
            "Name: OnlineBackup, dtype: int64\n",
            "\n",
            "Unique Values Count Before Standardized Variable DeviceProtection\n",
            "No                     3054\n",
            "Yes                    2391\n",
            "No internet service    1505\n",
            "Name: DeviceProtection, dtype: int64\n",
            "\n",
            "Unique Values Count Before Standardized Variable TechSupport\n",
            "No                     3431\n",
            "Yes                    2014\n",
            "No internet service    1505\n",
            "Name: TechSupport, dtype: int64\n",
            "\n",
            "Unique Values Count Before Standardized Variable StreamingTV\n",
            "No                     2774\n",
            "Yes                    2671\n",
            "No internet service    1505\n",
            "Name: StreamingTV, dtype: int64\n",
            "\n",
            "Unique Values Count Before Standardized Variable StreamingMovies\n",
            "No                     2747\n",
            "Yes                    2698\n",
            "No internet service    1505\n",
            "Name: StreamingMovies, dtype: int64\n",
            "\n",
            "Unique Values Count Before Standardized Variable Contract\n",
            "Month-to-month    3823\n",
            "Two year          1670\n",
            "One year          1457\n",
            "Name: Contract, dtype: int64\n",
            "\n",
            "Unique Values Count Before Standardized Variable PaperlessBilling\n",
            "Yes    4114\n",
            "No     2836\n",
            "Name: PaperlessBilling, dtype: int64\n",
            "\n",
            "Unique Values Count Before Standardized Variable PaymentMethod\n",
            "Electronic check             2337\n",
            "Mailed check                 1594\n",
            "Bank transfer (automatic)    1519\n",
            "Credit card (automatic)      1500\n",
            "Name: PaymentMethod, dtype: int64\n",
            "\n",
            "Unique Values Count Before Standardized Variable Churn\n",
            "No       5114\n",
            "Yes      1827\n",
            "Churn       9\n",
            "Name: Churn, dtype: int64\n"
          ]
        }
      ]
    },
    {
      "cell_type": "markdown",
      "source": [
        "After inspection, it was determined that three columns (gender, Dependents, Churn) contain several non-standard variables. Those variables are:\n",
        "\n",
        "- `Gender` (Female, Male, Woman, Man), which can be unified to (Female, Male) as they carry identical meanings.\n",
        "- `Dependents` (Yes, No, Yes), which can be standardized to (Yes, No) since they convey the same intent.\n",
        "- `Churn` (Yes, No, Churn), which can be standardized to (Yes, No) as it signifies the same concept."
      ],
      "metadata": {
        "id": "lNyQs0bkzRgH"
      }
    },
    {
      "cell_type": "code",
      "source": [
        "df_load = df_load.replace(['Wanita','Laki-Laki','Churn','Iya'],['Female','Male','Yes','Yes'])\n",
        "\n",
        "#Loop\n",
        "for col_name in (['gender','Dependents','Churn']):\n",
        "\t#write your command here\n",
        "\tprint('\\nUnique Values Count After Standardized Variable',col_name)\n",
        "\tprint(df_load[col_name].value_counts())"
      ],
      "metadata": {
        "colab": {
          "base_uri": "https://localhost:8080/"
        },
        "id": "yV0VlWDwzSnc",
        "outputId": "2b4e74c5-9fd7-4bda-cca0-9f0339b7849d"
      },
      "execution_count": 18,
      "outputs": [
        {
          "output_type": "stream",
          "name": "stdout",
          "text": [
            "\n",
            "Unique Values Count After Standardized Variable gender\n",
            "Male      3505\n",
            "Female    3445\n",
            "Name: gender, dtype: int64\n",
            "\n",
            "Unique Values Count After Standardized Variable Dependents\n",
            "No     4870\n",
            "Yes    2080\n",
            "Name: Dependents, dtype: int64\n",
            "\n",
            "Unique Values Count After Standardized Variable Churn\n",
            "No     5114\n",
            "Yes    1836\n",
            "Name: Churn, dtype: int64\n"
          ]
        }
      ]
    }
  ]
}
